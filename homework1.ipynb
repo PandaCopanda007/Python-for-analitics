{
 "cells": [
  {
   "cell_type": "markdown",
   "id": "013fb405-de74-4b84-a39d-be355daccddb",
   "metadata": {},
   "source": [
    "# Условие 1: \n",
    "\n",
    "Оформляйте ноутбук, используя эти советы:\n",
    "Номер задачи - заголовок 2\n",
    "Номер подзадачи - заголовок 3\n",
    "Предоставленные наборы данных оформляйте, как код\n",
    "Рекомендации для преподавателей по оценке задания:\n",
    "Смотреть, чтобы студент красиво оформлял ноутбук, использовал ячейки с текстом, указывал номера заданий"
   ]
  },
  {
   "cell_type": "markdown",
   "id": "faa432b0-2518-4f35-af3b-55a53a772e9f",
   "metadata": {},
   "source": [
    "# Условие 2: \n",
    "\n",
    "На складе лежат разные фрукты в разном количестве.\n",
    "Нужно написать функцию, которая на вход принимает любое количество названий фруктов и их количество, а возвращает общее количество фруктов на складе"
   ]
  },
  {
   "cell_type": "code",
   "execution_count": 23,
   "id": "d1fe609c-d21a-4122-9c63-1788f0077029",
   "metadata": {},
   "outputs": [],
   "source": [
    "def fruit(**kwargs):\n",
    "    \n",
    "    all_fruit = sum(kwargs.values())\n",
    "    \n",
    "    return f'all_fruit: {all_fruit}'"
   ]
  },
  {
   "cell_type": "code",
   "execution_count": 25,
   "id": "59df45f7-75bf-499c-a08c-1a7e3b049a9f",
   "metadata": {},
   "outputs": [
    {
     "data": {
      "text/plain": [
       "'all_fruit: 20'"
      ]
     },
     "execution_count": 25,
     "metadata": {},
     "output_type": "execute_result"
    }
   ],
   "source": [
    "(fruit(oranges=12, apples=3, bananas=5))"
   ]
  },
  {
   "cell_type": "markdown",
   "id": "d860349a-6d0e-48ef-8bcb-50b0e92489a0",
   "metadata": {},
   "source": [
    "# Условие 3: \n",
    "\n",
    "Дан список с затратами на рекламу. Но в данных есть ошибки, некоторые затраты имеют отрицательную величину. Удалите такие значения из списка и посчитайте суммарные затраты\n",
    "[100, 125, -90, 345, 655, -1, 0, 200]\n",
    "Используйте list comprehensions"
   ]
  },
  {
   "cell_type": "code",
   "execution_count": 42,
   "id": "fed24609-a8a5-4f7e-b2b0-654e7621f31a",
   "metadata": {},
   "outputs": [],
   "source": [
    "data = [100, 125, -90, 345, 655, -1, 0, 200]\n",
    "\n",
    "advertising=[i for i in data if i > 0]"
   ]
  },
  {
   "cell_type": "code",
   "execution_count": 44,
   "id": "c8f1b786-94b5-4bcd-a0cc-3458b0e740dd",
   "metadata": {},
   "outputs": [
    {
     "data": {
      "text/plain": [
       "[100, 125, 345, 655, 200]"
      ]
     },
     "execution_count": 44,
     "metadata": {},
     "output_type": "execute_result"
    }
   ],
   "source": [
    "advertising"
   ]
  },
  {
   "cell_type": "code",
   "execution_count": 48,
   "id": "7206ccf0-d4be-47eb-b6a0-05055ab2909a",
   "metadata": {},
   "outputs": [
    {
     "name": "stdout",
     "output_type": "stream",
     "text": [
      "advertising_expenses: 1425\n"
     ]
    }
   ],
   "source": [
    "print(f'advertising_expenses: {sum([i for i in data if i > 0 ])}')"
   ]
  },
  {
   "cell_type": "code",
   "execution_count": null,
   "id": "68800da4-51fa-445f-b770-3421bea6b138",
   "metadata": {},
   "outputs": [],
   "source": []
  }
 ],
 "metadata": {
  "kernelspec": {
   "display_name": "anaconda-panel-2023.05-py310",
   "language": "python",
   "name": "conda-env-anaconda-panel-2023.05-py310-py"
  },
  "language_info": {
   "codemirror_mode": {
    "name": "ipython",
    "version": 3
   },
   "file_extension": ".py",
   "mimetype": "text/x-python",
   "name": "python",
   "nbconvert_exporter": "python",
   "pygments_lexer": "ipython3",
   "version": "3.11.4"
  }
 },
 "nbformat": 4,
 "nbformat_minor": 5
}
